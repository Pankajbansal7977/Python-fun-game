{
 "cells": [
  {
   "cell_type": "code",
   "execution_count": 2,
   "id": "e659e213",
   "metadata": {},
   "outputs": [
    {
     "name": "stdout",
     "output_type": "stream",
     "text": [
      "Qusetion for Rs.1000\n",
      "a. Wick van Rossum     b. Rasmus Lerdorf\n",
      "c. Guido van Rossum     d. Niene Stom\n",
      "Enter your answer (1-4)3\n",
      "Correct answer , you have won RS. 1000\n",
      "Qusetion for Rs.2000\n",
      "a. Python     b. Java\n",
      "c. English     d. php\n"
     ]
    },
    {
     "ename": "KeyboardInterrupt",
     "evalue": "Interrupted by user",
     "output_type": "error",
     "traceback": [
      "\u001b[1;31m---------------------------------------------------------------------------\u001b[0m",
      "\u001b[1;31mKeyboardInterrupt\u001b[0m                         Traceback (most recent call last)",
      "Cell \u001b[1;32mIn[2], line 46\u001b[0m\n\u001b[0;32m     44\u001b[0m \u001b[38;5;28mprint\u001b[39m(\u001b[38;5;124mf\u001b[39m\u001b[38;5;124m\"\u001b[39m\u001b[38;5;124ma. \u001b[39m\u001b[38;5;132;01m{\u001b[39;00mqustion[\u001b[38;5;241m1\u001b[39m]\u001b[38;5;132;01m}\u001b[39;00m\u001b[38;5;124m     b. \u001b[39m\u001b[38;5;132;01m{\u001b[39;00mqustion[\u001b[38;5;241m2\u001b[39m]\u001b[38;5;132;01m}\u001b[39;00m\u001b[38;5;124m\"\u001b[39m)\n\u001b[0;32m     45\u001b[0m \u001b[38;5;28mprint\u001b[39m(\u001b[38;5;124mf\u001b[39m\u001b[38;5;124m\"\u001b[39m\u001b[38;5;124mc. \u001b[39m\u001b[38;5;132;01m{\u001b[39;00mqustion[\u001b[38;5;241m3\u001b[39m]\u001b[38;5;132;01m}\u001b[39;00m\u001b[38;5;124m     d. \u001b[39m\u001b[38;5;132;01m{\u001b[39;00mqustion[\u001b[38;5;241m4\u001b[39m]\u001b[38;5;132;01m}\u001b[39;00m\u001b[38;5;124m\"\u001b[39m)\n\u001b[1;32m---> 46\u001b[0m reply \u001b[38;5;241m=\u001b[39m \u001b[38;5;28mint\u001b[39m(\u001b[38;5;28;43minput\u001b[39;49m\u001b[43m(\u001b[49m\u001b[38;5;124;43m\"\u001b[39;49m\u001b[38;5;124;43mEnter your answer (1-4)\u001b[39;49m\u001b[38;5;124;43m\"\u001b[39;49m\u001b[43m)\u001b[49m)\n\u001b[0;32m     47\u001b[0m \u001b[38;5;28;01mif\u001b[39;00m(reply\u001b[38;5;241m==\u001b[39mqustion[\u001b[38;5;241m-\u001b[39m\u001b[38;5;241m1\u001b[39m]):\n\u001b[0;32m     48\u001b[0m     \u001b[38;5;28mprint\u001b[39m(\u001b[38;5;124mf\u001b[39m\u001b[38;5;124m\"\u001b[39m\u001b[38;5;124mCorrect answer , you have won RS. \u001b[39m\u001b[38;5;132;01m{\u001b[39;00mlevels[i]\u001b[38;5;132;01m}\u001b[39;00m\u001b[38;5;124m\"\u001b[39m)\n",
      "File \u001b[1;32m~\\AppData\\Local\\Programs\\Python\\Python310\\lib\\site-packages\\ipykernel\\kernelbase.py:1191\u001b[0m, in \u001b[0;36mKernel.raw_input\u001b[1;34m(self, prompt)\u001b[0m\n\u001b[0;32m   1189\u001b[0m     msg \u001b[38;5;241m=\u001b[39m \u001b[38;5;124m\"\u001b[39m\u001b[38;5;124mraw_input was called, but this frontend does not support input requests.\u001b[39m\u001b[38;5;124m\"\u001b[39m\n\u001b[0;32m   1190\u001b[0m     \u001b[38;5;28;01mraise\u001b[39;00m StdinNotImplementedError(msg)\n\u001b[1;32m-> 1191\u001b[0m \u001b[38;5;28;01mreturn\u001b[39;00m \u001b[38;5;28;43mself\u001b[39;49m\u001b[38;5;241;43m.\u001b[39;49m\u001b[43m_input_request\u001b[49m\u001b[43m(\u001b[49m\n\u001b[0;32m   1192\u001b[0m \u001b[43m    \u001b[49m\u001b[38;5;28;43mstr\u001b[39;49m\u001b[43m(\u001b[49m\u001b[43mprompt\u001b[49m\u001b[43m)\u001b[49m\u001b[43m,\u001b[49m\n\u001b[0;32m   1193\u001b[0m \u001b[43m    \u001b[49m\u001b[38;5;28;43mself\u001b[39;49m\u001b[38;5;241;43m.\u001b[39;49m\u001b[43m_parent_ident\u001b[49m\u001b[43m[\u001b[49m\u001b[38;5;124;43m\"\u001b[39;49m\u001b[38;5;124;43mshell\u001b[39;49m\u001b[38;5;124;43m\"\u001b[39;49m\u001b[43m]\u001b[49m\u001b[43m,\u001b[49m\n\u001b[0;32m   1194\u001b[0m \u001b[43m    \u001b[49m\u001b[38;5;28;43mself\u001b[39;49m\u001b[38;5;241;43m.\u001b[39;49m\u001b[43mget_parent\u001b[49m\u001b[43m(\u001b[49m\u001b[38;5;124;43m\"\u001b[39;49m\u001b[38;5;124;43mshell\u001b[39;49m\u001b[38;5;124;43m\"\u001b[39;49m\u001b[43m)\u001b[49m\u001b[43m,\u001b[49m\n\u001b[0;32m   1195\u001b[0m \u001b[43m    \u001b[49m\u001b[43mpassword\u001b[49m\u001b[38;5;241;43m=\u001b[39;49m\u001b[38;5;28;43;01mFalse\u001b[39;49;00m\u001b[43m,\u001b[49m\n\u001b[0;32m   1196\u001b[0m \u001b[43m\u001b[49m\u001b[43m)\u001b[49m\n",
      "File \u001b[1;32m~\\AppData\\Local\\Programs\\Python\\Python310\\lib\\site-packages\\ipykernel\\kernelbase.py:1234\u001b[0m, in \u001b[0;36mKernel._input_request\u001b[1;34m(self, prompt, ident, parent, password)\u001b[0m\n\u001b[0;32m   1231\u001b[0m \u001b[38;5;28;01mexcept\u001b[39;00m \u001b[38;5;167;01mKeyboardInterrupt\u001b[39;00m:\n\u001b[0;32m   1232\u001b[0m     \u001b[38;5;66;03m# re-raise KeyboardInterrupt, to truncate traceback\u001b[39;00m\n\u001b[0;32m   1233\u001b[0m     msg \u001b[38;5;241m=\u001b[39m \u001b[38;5;124m\"\u001b[39m\u001b[38;5;124mInterrupted by user\u001b[39m\u001b[38;5;124m\"\u001b[39m\n\u001b[1;32m-> 1234\u001b[0m     \u001b[38;5;28;01mraise\u001b[39;00m \u001b[38;5;167;01mKeyboardInterrupt\u001b[39;00m(msg) \u001b[38;5;28;01mfrom\u001b[39;00m \u001b[38;5;28;01mNone\u001b[39;00m\n\u001b[0;32m   1235\u001b[0m \u001b[38;5;28;01mexcept\u001b[39;00m \u001b[38;5;167;01mException\u001b[39;00m:\n\u001b[0;32m   1236\u001b[0m     \u001b[38;5;28mself\u001b[39m\u001b[38;5;241m.\u001b[39mlog\u001b[38;5;241m.\u001b[39mwarning(\u001b[38;5;124m\"\u001b[39m\u001b[38;5;124mInvalid Message:\u001b[39m\u001b[38;5;124m\"\u001b[39m, exc_info\u001b[38;5;241m=\u001b[39m\u001b[38;5;28;01mTrue\u001b[39;00m)\n",
      "\u001b[1;31mKeyboardInterrupt\u001b[0m: Interrupted by user"
     ]
    }
   ],
   "source": [
    "qustions = [\n",
    "    [\"1. Who developed Python Programming Language?\",\"Wick van Rossum\",\"Rasmus Lerdorf\",\"Guido van Rossum\",\"Niene Stom\",\"none\",3],[\n",
    "        \"2.Is Python case sensitive when dealing with identifiers?\",\"No\",\"Yes\",\"machine dependent\",\"none of the mentioned\",\"none\",2],[\n",
    "        \"3.Which of the following is the correct extension of the Python file?\",\"Python\",\".pl\",\".py\",\".p\",\"none\",3],[\n",
    "        \"4.All keywords in Python are in _________\",\"Capitalized\",\"lower case\",\"UPPER CASE\",\"None of the mentioned\",\"none\",4],[\n",
    "        \"5. Which of the following is used to define a block of code in Python language?\",\"Indentation\",\"Key\",\" Brackets\",\"All of the mentioned\",\"none\",1],[\n",
    "        \"6.Which keyword is used for function in Python language?\",\"Function\",\"def\",\"Fun\",\"Define\",\"none\",2],[\n",
    "        \"7. Which of the following character is used to give single-line comments in Python?\",\" //\",\"#\",\"!\",\"/*\",\"none\",2],[\n",
    "        \"8. Which of the following functions can help us to find the version of python that we are currently working on?\",\"sys.version(1)\",\"sys.version(0)\",\"sys.version()\",\"sys.version\",\"none\",4],[\n",
    "        \"9. Python supports the creation of anonymous functions at runtime, using a construct called __________\",\"pi\",\" anonymous\",\"lambda\",\"none of the mentioned\",\"none\",3],[\n",
    "        \"10.What does pip stand for python?\",\"Pip Installs Python\",\"Pip Installs Packages\",\" Preferred Installer Program\",\"All of the mentioned\",\"none\",3],[\n",
    "        \"11.Which of the following is true for variable names in Python?\",\"underscore and ampersand are the only two special characters allowed\",\" unlimited length\",\"all private members must have leading and trailing underscores\",\"none of the mentioned\",\"none\",2],[\n",
    "        \"12. Which of the following functions is a built-in function in python?\",\" factorial()\",\"print()\",\"seed()\",\"sqrt()\",\"none\",2],[\n",
    "        \"13.Which of the following is the use of id() function in python?\",\" Every object doesn’t have a unique id\",\"Id returns the identity of the object\",\"All of the mentioned\",\"None of the mentioned\",\"none\",2],[\n",
    "        \"14.Which of the following is not a core data type in Python programming?\",\"Tuples\",\" Lists\",\"Class\",\" Dictionary\",\"none\",3],[\n",
    "        \"15. Which of these is the definition for packages in Python?\",\" A set of main modules\",\"A folder of python modules\",\"A number of files containing Python definitions and statements\",\"A set of programs making use of Python modules\",\"none\",2],[\n",
    "        \"16. Which one of the following is not a keyword in Python language?\",\"pass\",\"eval\",\"assert\",\"nonlocal\",\"none\",2],[\n",
    "            \" 17.Which module in the python standard library parses options received from the command line?\",\"getarg\",\"getopt\",\"main\",\" os\",\"none\",2],[\n",
    "        \"18. What arithmetic operators cannot be used with strings in Python?\",\"*\",\"-\",\"+\",\"All of the mentioned\",\"none\",2],[\n",
    "        \"19.To add a new element to a list we use which Python command?\",\"list1.addEnd(5)\",\"list1.addLast(5)\",\"list1.append(5)\",\"list1.add(5)\",\"none\",3]\n",
    "    ]\n",
    "\n",
    "\n",
    "\n",
    "\n",
    "\n",
    "\n",
    "\n",
    "\n",
    "\n",
    "\n",
    "\n",
    "\n",
    "\n",
    "\n",
    "\n",
    "\n",
    "           \n",
    "levels = [1000,2000,3000,5000,10000,,15000,20000,40000,80000,160000,320000,640000,1250000,2500000,,5000000,10000000,20000000,50000000,70000000]\n",
    "money = 0 \n",
    "for i in range(0,len(qustions)):\n",
    "    qustion = qustions[i]\n",
    "    print(f\"Qusetion for Rs.{levels[i]}\")\n",
    "    print(f\"a. {qustion[1]}     b. {qustion[2]}\")\n",
    "    print(f\"c. {qustion[3]}     d. {qustion[4]}\")\n",
    "    reply = int(input(\"Enter your answer (1-4)\"))\n",
    "    if(reply==qustion[-1]):\n",
    "        print(f\"Correct answer , you have won RS. {levels[i]}\")\n",
    "        if (i==4):\n",
    "            money = 10000\n",
    "        elif(i==9):\n",
    "            money = 320000\n",
    "        elif (i==14):\n",
    "            money = 10000000\n",
    "    else:\n",
    "        print(\"Wrong answer\")\n",
    "        break\n",
    "    "
   ]
  },
  {
   "cell_type": "code",
   "execution_count": null,
   "id": "22aef0bb",
   "metadata": {},
   "outputs": [],
   "source": []
  }
 ],
 "metadata": {
  "kernelspec": {
   "display_name": "Python 3 (ipykernel)",
   "language": "python",
   "name": "python3"
  },
  "language_info": {
   "codemirror_mode": {
    "name": "ipython",
    "version": 3
   },
   "file_extension": ".py",
   "mimetype": "text/x-python",
   "name": "python",
   "nbconvert_exporter": "python",
   "pygments_lexer": "ipython3",
   "version": "3.10.11"
  }
 },
 "nbformat": 4,
 "nbformat_minor": 5
}
